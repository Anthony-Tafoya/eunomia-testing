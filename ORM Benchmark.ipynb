{
 "cells": [
  {
   "cell_type": "markdown",
   "metadata": {},
   "source": [
    "# ORM Benchmark\n",
    "\n",
    "This notebook compares MIT's original cohort and feature generator classes against IBC's ORM based versions of those same classes. We will use the EOL cohort definition for comparison, as the logic of the original and ORM based versions should be identical.\n",
    "\n",
    "This notebook will loosely follow this structure:\n",
    "1. Compare cohorts, and\n",
    "2. Compare features.\n",
    "\n",
    "For cohorts table outputs, they will reside in the same schema, called `eol_cohort_comparison`, which is defined in `config.py`. MIT's table will be named `original_eol_cohort`, whereas IBC's will be named `eol_cohort` (which is harded coded in the definition of EolCohortTable, a requirement for the ORM functionality)."
   ]
  },
  {
   "cell_type": "markdown",
   "metadata": {},
   "source": [
    "## MIT's Cohort Creation"
   ]
  },
  {
   "cell_type": "markdown",
   "metadata": {},
   "source": [
    "### Imports"
   ]
  },
  {
   "cell_type": "code",
   "execution_count": 1,
   "metadata": {},
   "outputs": [],
   "source": [
    "# Third party imports\n",
    "import numpy as np\n",
    "from getpass import getpass\n",
    "\n",
    "# Project imports\n",
    "import config\n",
    "from config import user_schema\n",
    "import Utils.dbutils as dbutils\n",
    "import Generators.CohortGenerator as CohortGenerator"
   ]
  },
  {
   "cell_type": "markdown",
   "metadata": {},
   "source": [
    "### 1. Set up a connection to the OMOP CDM database\n",
    "\n",
    "Parameters for connection to be specified in ./config.py"
   ]
  },
  {
   "cell_type": "code",
   "execution_count": 2,
   "metadata": {},
   "outputs": [
    {
     "name": "stdout",
     "output_type": "stream",
     "text": [
      "········\n"
     ]
    },
    {
     "name": "stderr",
     "output_type": "stream",
     "text": [
      "/home/cdsw/.local/lib/python3.6/site-packages/sqlalchemy/dialects/postgresql/base.py:3530: SAWarning: Skipped unsupported reflection of expression-based index idx_concept_id_varchar\n",
      "  \"expression-based index %s\" % idx_name\n"
     ]
    },
    {
     "name": "stdout",
     "output_type": "stream",
     "text": [
      "Executed 1 SQLs\n",
      "Executed 1 SQLs\n"
     ]
    }
   ],
   "source": [
    "# database connection\n",
    "username = 'ibx8568'\n",
    "password = getpass()\n",
    "database_name = 'pgsql01/ds_omop_cdm'\n",
    "\n",
    "config_path = 'postgresql://{username}:{password}@{database_name}'.format(\n",
    "    username = username,\n",
    "    password = password,\n",
    "    database_name = database_name\n",
    ")\n",
    "\n",
    "# schemas \n",
    "schema_name = user_schema # all created tables will be created using this schema\n",
    "\n",
    "# caching\n",
    "reset_schema = True # if true, rebuild all data from scratch\n",
    "\n",
    "# set up database, reset schemas as needed\n",
    "db = dbutils.Database(config_path, schema_name)\n",
    "if reset_schema:\n",
    "    db.execute(\n",
    "        'drop schema if exists {} cascade'.format(schema_name)\n",
    "    )\n",
    "db.execute(\n",
    "    'create schema if not exists {}'.format(schema_name)\n",
    ")"
   ]
  },
  {
   "cell_type": "markdown",
   "metadata": {},
   "source": [
    "### 2. Generate the Cohort as per the given SQL file"
   ]
  },
  {
   "cell_type": "code",
   "execution_count": 3,
   "metadata": {},
   "outputs": [
    {
     "name": "stdout",
     "output_type": "stream",
     "text": [
      "Regenerating Table (replace=True)\n",
      "Regenerated Cohort in 14.98386812210083 seconds\n"
     ]
    }
   ],
   "source": [
    "cohort_name = 'original_eol_cohort'\n",
    "cohort_script_path = config.SQL_PATH_COHORTS + '/gen_EOL_cohort.sql'\n",
    "\n",
    "# cohort parameters  \n",
    "params = {\n",
    "          'cohort_table_name'     : cohort_name,\n",
    "          'schema_name'           : schema_name,\n",
    "          'aux_data_schema'       : config.CDM_AUX_SCHEMA,\n",
    "          'training_start_date'   : '2016-01-01',\n",
    "          'training_end_date'     : '2017-01-01',\n",
    "          'gap'                   : '3 months',\n",
    "          'outcome_window'        : '6 months'\n",
    "         }\n",
    "\n",
    "original_eol_cohort = CohortGenerator.Cohort(\n",
    "    schema_name=schema_name,\n",
    "    cohort_table_name=cohort_name,\n",
    "    cohort_generation_script=cohort_script_path,\n",
    "    cohort_generation_kwargs=params,\n",
    "    outcome_col_name='y'\n",
    ")\n",
    "original_eol_cohort.build(db, replace=True)"
   ]
  },
  {
   "cell_type": "markdown",
   "metadata": {},
   "source": [
    "## IBC's Cohort Creation"
   ]
  },
  {
   "cell_type": "markdown",
   "metadata": {},
   "source": [
    "### Imports"
   ]
  },
  {
   "cell_type": "code",
   "execution_count": 4,
   "metadata": {},
   "outputs": [],
   "source": [
    "# Standard imports\n",
    "from datetime import datetime\n",
    "import time\n",
    "\n",
    "# Project imports\n",
    "from Utils.ORM.postgres_db import PostgresDatabase\n",
    "from Generators.ORM.EolCohortGenerator import EolCohortTable"
   ]
  },
  {
   "cell_type": "code",
   "execution_count": 5,
   "metadata": {},
   "outputs": [],
   "source": [
    "db_orm = PostgresDatabase(username, password, database_name, schema_name)\n",
    "remake_cohort = True"
   ]
  },
  {
   "cell_type": "code",
   "execution_count": 6,
   "metadata": {},
   "outputs": [],
   "source": [
    "cohort_args = {\n",
    "    'training_start_date':datetime.strptime('2016-01-01', '%Y-%m-%d'),\n",
    "    'training_end_date':datetime.strptime('2017-01-01', '%Y-%m-%d'),\n",
    "    'gap_months':3,\n",
    "    'outcome_months':6,\n",
    "    'min_enroll_proportion':0.95\n",
    "}"
   ]
  },
  {
   "cell_type": "code",
   "execution_count": 7,
   "metadata": {},
   "outputs": [
    {
     "name": "stdout",
     "output_type": "stream",
     "text": [
      "Cohort build took 19.51 seconds\n"
     ]
    }
   ],
   "source": [
    "orm_cohort = EolCohortTable(**cohort_args)\n",
    "tic = time.perf_counter()\n",
    "orm_cohort.build(db_orm, remake_cohort)\n",
    "toc = time.perf_counter()\n",
    "print('Cohort build took {:,.2f} seconds'.format(toc - tic))"
   ]
  },
  {
   "cell_type": "markdown",
   "metadata": {},
   "source": [
    "## Compare\n",
    "\n",
    "We assume that each person_id only appears once in each dataframe, and that the start and end dates are the same. So, the `person_id` and outcome column `y` will be our primary basis for comparison."
   ]
  },
  {
   "cell_type": "code",
   "execution_count": 8,
   "metadata": {},
   "outputs": [],
   "source": [
    "orm_check = orm_cohort._cohort[['person_id', 'y']].merge(original_eol_cohort._cohort[['person_id', 'y', 'start_date']], on=['person_id', 'y'], how='left')\n",
    "ori_check = original_eol_cohort._cohort[['person_id', 'y']].merge(orm_cohort._cohort[['person_id', 'y', 'start_date']], on=['person_id', 'y'], how='left')"
   ]
  },
  {
   "cell_type": "code",
   "execution_count": 9,
   "metadata": {},
   "outputs": [
    {
     "name": "stdout",
     "output_type": "stream",
     "text": [
      "ORM rows not in original: 0\n",
      "Original rows not in ORM: 0\n"
     ]
    }
   ],
   "source": [
    "print('ORM rows not in original: {}'.format(orm_check.start_date.isnull().sum()))\n",
    "print('Original rows not in ORM: {}'.format(ori_check.start_date.isnull().sum()))"
   ]
  },
  {
   "cell_type": "markdown",
   "metadata": {},
   "source": [
    "## MIT Feature Creation"
   ]
  },
  {
   "cell_type": "code",
   "execution_count": 10,
   "metadata": {},
   "outputs": [],
   "source": [
    "import Generators.FeatureGenerator as FeatureGenerator"
   ]
  },
  {
   "cell_type": "code",
   "execution_count": 11,
   "metadata": {},
   "outputs": [],
   "source": [
    "featureSet = FeatureGenerator.FeatureSet(db)\n",
    "featureSet.add_default_features(\n",
    "    ['drugs','conditions','procedures','specialty'],\n",
    "    schema_name,\n",
    "    cohort_name\n",
    ")"
   ]
  },
  {
   "cell_type": "code",
   "execution_count": 12,
   "metadata": {
    "scrolled": true
   },
   "outputs": [
    {
     "name": "stdout",
     "output_type": "stream",
     "text": [
      "Data loaded to buffer in 1233.04 seconds\n",
      "Got Unique Concepts and Timestamps in 127.29 seconds\n",
      "Created Index Mappings in 0.04 seconds\n",
      "124191\n",
      "Generated Sparse Representation of Data in 247.83 seconds\n",
      "CPU times: user 6min 33s, sys: 1min 8s, total: 7min 41s\n",
      "Wall time: 26min 48s\n"
     ]
    }
   ],
   "source": [
    "%%time\n",
    "# Build the Feature Set by executing SQL queries and reading into sparse matrices\n",
    "cache_data_path = '/tmp/cache_data_eol_test'\n",
    "featureSet.build(original_eol_cohort, from_cached=False, cache_file=cache_data_path)"
   ]
  },
  {
   "cell_type": "markdown",
   "metadata": {},
   "source": [
    "## IBC Feature Creation"
   ]
  },
  {
   "cell_type": "code",
   "execution_count": 13,
   "metadata": {},
   "outputs": [],
   "source": [
    "from Generators.ORM.FeatureGenerator import FeatureSet as OrmFeatureSet"
   ]
  },
  {
   "cell_type": "code",
   "execution_count": 14,
   "metadata": {},
   "outputs": [],
   "source": [
    "ormFeatureSet = OrmFeatureSet(db_orm, EolCohortTable)\n",
    "ormFeatureSet.add_default_features(['Drugs','Conditions','Procedures','Specialty'])"
   ]
  },
  {
   "cell_type": "code",
   "execution_count": 15,
   "metadata": {},
   "outputs": [
    {
     "name": "stdout",
     "output_type": "stream",
     "text": [
      "Data loaded to buffer in 1,868.17 seconds\n"
     ]
    },
    {
     "name": "stderr",
     "output_type": "stream",
     "text": [
      "\r",
      "0it [00:00, ?it/s]"
     ]
    },
    {
     "name": "stdout",
     "output_type": "stream",
     "text": [
      "Got Unique Concepts and Timestamps in 115.01 seconds\n",
      "Created Index Mappings in 0.04 seconds\n"
     ]
    },
    {
     "name": "stderr",
     "output_type": "stream",
     "text": [
      "56it [03:12,  3.44s/it, 17,472.89 MB]\n"
     ]
    },
    {
     "name": "stdout",
     "output_type": "stream",
     "text": [
      "Generated Sparse Representation of Data in 256.06 seconds\n",
      "CPU times: user 19min 43s, sys: 1min 45s, total: 21min 28s\n",
      "Wall time: 37min 24s\n"
     ]
    }
   ],
   "source": [
    "%%time\n",
    "ormFeatureSet.build(orm_cohort, from_cached=False)"
   ]
  },
  {
   "cell_type": "markdown",
   "metadata": {},
   "source": [
    "## Compare\n",
    "\n",
    "We do a simple equality test of the sparse matrix arrays."
   ]
  },
  {
   "cell_type": "code",
   "execution_count": 16,
   "metadata": {},
   "outputs": [
    {
     "data": {
      "text/html": [
       "<table><tbody><tr><th style=\"text-align: left\">Format</th><td style=\"text-align: left\">coo</td></tr><tr><th style=\"text-align: left\">Data Type</th><td style=\"text-align: left\">float64</td></tr><tr><th style=\"text-align: left\">Shape</th><td style=\"text-align: left\">(37257, 4313, 124191)</td></tr><tr><th style=\"text-align: left\">nnz</th><td style=\"text-align: left\">81539196</td></tr><tr><th style=\"text-align: left\">Density</th><td style=\"text-align: left\">4.085911548588132e-06</td></tr><tr><th style=\"text-align: left\">Read-only</th><td style=\"text-align: left\">True</td></tr><tr><th style=\"text-align: left\">Size</th><td style=\"text-align: left\">2.4G</td></tr><tr><th style=\"text-align: left\">Storage ratio</th><td style=\"text-align: left\">0.0</td></tr></tbody></table>"
      ],
      "text/plain": [
       "<COO: shape=(37257, 4313, 124191), dtype=float64, nnz=81539196, fill_value=0.0>"
      ]
     },
     "execution_count": 16,
     "metadata": {},
     "output_type": "execute_result"
    }
   ],
   "source": [
    "featureSet._spm_arr"
   ]
  },
  {
   "cell_type": "code",
   "execution_count": 17,
   "metadata": {},
   "outputs": [
    {
     "data": {
      "text/html": [
       "<table><tbody><tr><th style=\"text-align: left\">Format</th><td style=\"text-align: left\">coo</td></tr><tr><th style=\"text-align: left\">Data Type</th><td style=\"text-align: left\">int64</td></tr><tr><th style=\"text-align: left\">Shape</th><td style=\"text-align: left\">(37257, 4313, 124191)</td></tr><tr><th style=\"text-align: left\">nnz</th><td style=\"text-align: left\">81539196</td></tr><tr><th style=\"text-align: left\">Density</th><td style=\"text-align: left\">4.085911548588132e-06</td></tr><tr><th style=\"text-align: left\">Read-only</th><td style=\"text-align: left\">True</td></tr><tr><th style=\"text-align: left\">Size</th><td style=\"text-align: left\">2.4G</td></tr><tr><th style=\"text-align: left\">Storage ratio</th><td style=\"text-align: left\">0.0</td></tr></tbody></table>"
      ],
      "text/plain": [
       "<COO: shape=(37257, 4313, 124191), dtype=int64, nnz=81539196, fill_value=0>"
      ]
     },
     "execution_count": 17,
     "metadata": {},
     "output_type": "execute_result"
    }
   ],
   "source": [
    "ormFeatureSet._spm_arr"
   ]
  },
  {
   "cell_type": "code",
   "execution_count": 19,
   "metadata": {},
   "outputs": [
    {
     "data": {
      "text/plain": [
       "True"
      ]
     },
     "execution_count": 19,
     "metadata": {},
     "output_type": "execute_result"
    }
   ],
   "source": [
    "np.all(featureSet._spm_arr == ormFeatureSet._spm_arr)"
   ]
  }
 ],
 "metadata": {
  "kernelspec": {
   "display_name": "Python 3",
   "language": "python",
   "name": "python3"
  },
  "language_info": {
   "codemirror_mode": {
    "name": "ipython",
    "version": 3
   },
   "file_extension": ".py",
   "mimetype": "text/x-python",
   "name": "python",
   "nbconvert_exporter": "python",
   "pygments_lexer": "ipython3",
   "version": "3.6.8"
  }
 },
 "nbformat": 4,
 "nbformat_minor": 2
}
