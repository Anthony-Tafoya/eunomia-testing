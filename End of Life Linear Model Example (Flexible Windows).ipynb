{
 "cells": [
  {
   "cell_type": "markdown",
   "metadata": {},
   "source": [
    "## Imports"
   ]
  },
  {
   "cell_type": "code",
   "execution_count": 136,
   "metadata": {},
   "outputs": [],
   "source": [
    "import sys\n",
    "import time\n",
    "import importlib\n",
    "import sparse\n",
    "import datetime\n",
    "import pandas as pd\n",
    "import numpy as np\n",
    "import scipy.sparse\n",
    "import matplotlib.pyplot as plt\n",
    "\n",
    "import Utils.dbutils as dbutils\n",
    "import Utils.data_utils as data_utils\n",
    "# import Utils.PopulateAux as PopulateAux\n",
    "import Generators.CohortGenerator as CohortGenerator\n",
    "import Generators.FeatureGenerator as FeatureGenerator\n",
    "import config\n",
    "local_imports = (\n",
    "    dbutils,\n",
    "    data_utils,\n",
    "    # PopulateAux,\n",
    "    CohortGenerator,\n",
    "    FeatureGenerator,\n",
    "    config\n",
    ")\n",
    "for i in local_imports:\n",
    "    i = importlib.reload(i)"
   ]
  },
  {
   "cell_type": "markdown",
   "metadata": {},
   "source": [
    "## Cohort, Outcome and Feature Collection\n",
    "\n",
    "### 1. Set up a connection to the OMOP CDM database\n",
    "\n",
    "Parameters for connection to be specified in ./config.py"
   ]
  },
  {
   "cell_type": "code",
   "execution_count": 138,
   "metadata": {},
   "outputs": [
    {
     "name": "stderr",
     "output_type": "stream",
     "text": [
      "/home/justinl/miniconda3/lib/python3.7/site-packages/sqlalchemy/dialects/postgresql/base.py:3323: SAWarning: Skipped unsupported reflection of expression-based index idx__loc_source_value\n",
      "  \"expression-based index %s\" % idx_name\n"
     ]
    },
    {
     "name": "stdout",
     "output_type": "stream",
     "text": [
      "Executed 1 SQLs\n"
     ]
    }
   ],
   "source": [
    "# database connection\n",
    "username = config.PG_USERNAME\n",
    "password = config.PG_PASSWORD\n",
    "database_name = config.DB_NAME\n",
    "\n",
    "config_path = 'postgresql://{username}:{password}@{database_name}'.format(\n",
    "    username = username,\n",
    "    password = password,\n",
    "    database_name = database_name\n",
    ")\n",
    "\n",
    "# schemas \n",
    "schema_name = 'flexible_windows_test' # all created tables will be created using this schema\n",
    "\n",
    "# caching\n",
    "reset_schema = False # if true, rebuild all data from scratch\n",
    "\n",
    "# set up database, reset schemas as needed\n",
    "db = dbutils.Database(config_path, schema_name)\n",
    "if reset_schema:\n",
    "    db.execute(\n",
    "        'drop schema if exists {} cascade'.format(schema_name)\n",
    "    )\n",
    "db.execute(\n",
    "    'create schema if not exists {}'.format(schema_name)\n",
    ")"
   ]
  },
  {
   "cell_type": "markdown",
   "metadata": {},
   "source": [
    "### Build a Cohort for the End of Life Prediction Task"
   ]
  },
  {
   "cell_type": "markdown",
   "metadata": {},
   "source": [
    "##### Create a Cohort Object that can be constructed as specified by SQL File & Params"
   ]
  },
  {
   "cell_type": "code",
   "execution_count": 141,
   "metadata": {},
   "outputs": [],
   "source": [
    "cohort_name = 'test_cohort_small'\n",
    "cohort_script_path = config.SQL_PATH_COHORTS + '/test_cohort_small.sql'\n",
    "\n",
    "# cohort parameters  \n",
    "params = {\n",
    "          'cohort_table_name'     : cohort_name,\n",
    "          'schema_name'           : schema_name,\n",
    "          'gap'                   : '3 months',\n",
    "          'outcome_window'        : '6 months',\n",
    "          'eligibility_period'    : '1 year',       ## Enrollment duration before prediction time\n",
    "          'positive_pred_unif'    : 'false',        ## If 'true', then uniformly sample deltas...\n",
    "          'positive_pred_delta'   : '6 months',     ## ...otherwise, fixed interval.\n",
    "          'negative_pred_date'    : '2017-01-01',   ## Constant for now, experiments TBD\n",
    "          'dummy_date'            : '2100-01-01'    ## Can be arbitrary, but must be consistent with feature SQL scripts\n",
    "         }\n",
    "\n",
    "cohort = CohortGenerator.Cohort(\n",
    "    schema_name=schema_name,\n",
    "    cohort_table_name=cohort_name,\n",
    "    cohort_generation_script=cohort_script_path,\n",
    "    cohort_generation_kwargs=params,\n",
    "    outcome_col_name='y'\n",
    ")"
   ]
  },
  {
   "cell_type": "markdown",
   "metadata": {},
   "source": [
    "##### Build Cohort"
   ]
  },
  {
   "cell_type": "code",
   "execution_count": 142,
   "metadata": {},
   "outputs": [
    {
     "name": "stdout",
     "output_type": "stream",
     "text": [
      "Regenerating Table (replace=True)\n",
      "Regenerated Cohort in 17.768906593322754 seconds\n"
     ]
    }
   ],
   "source": [
    "cohort.build(db, replace=True)"
   ]
  },
  {
   "cell_type": "markdown",
   "metadata": {},
   "source": [
    "### Get a Time Series of Features for Cohort Members"
   ]
  },
  {
   "cell_type": "code",
   "execution_count": 143,
   "metadata": {},
   "outputs": [],
   "source": [
    "featureSet = FeatureGenerator.FeatureSet(db)\n",
    "featureSet.add_default_features(\n",
    "    ['drugs_relative','conditions_relative','procedures_relative','specialty_relative'],\n",
    "    schema_name,\n",
    "    cohort_name\n",
    ")"
   ]
  },
  {
   "cell_type": "code",
   "execution_count": 144,
   "metadata": {},
   "outputs": [
    {
     "name": "stdout",
     "output_type": "stream",
     "text": [
      "Data loaded to buffer in 301.57 seconds\n",
      "Got Unique Concepts and Timestamps in 4.72 seconds\n",
      "Created Index Mappings in 0.01 seconds\n",
      "7089\n",
      "Generated Sparse Representation of Data in 12.49 seconds\n",
      "CPU times: user 20.4 s, sys: 2.28 s, total: 22.6 s\n",
      "Wall time: 5min 18s\n"
     ]
    }
   ],
   "source": [
    "%%time\n",
    "# Build the Feature Set by executing SQL queries and reading into sparse matrices\n",
    "cache_data_path = '/tmp/cache_data_flexible_test_small'\n",
    "featureSet.build(cohort, from_cached=False, cache_file=cache_data_path)"
   ]
  },
  {
   "cell_type": "code",
   "execution_count": 145,
   "metadata": {},
   "outputs": [],
   "source": [
    "outcomes_filt, feature_matrix_3d_transpose, remap, good_feature_names = \\\n",
    "    FeatureGenerator.postprocess_feature_matrix(cohort, featureSet, training_end_date_col='dummy_date')"
   ]
  },
  {
   "cell_type": "markdown",
   "metadata": {},
   "source": [
    "### Build a Model to Predict End of Life using this data"
   ]
  },
  {
   "cell_type": "markdown",
   "metadata": {},
   "source": [
    "#### Transform Data to get a vector of counts over 1, 6, 12, 24 and infinity (represented by 10000 days) month windows for each Patient"
   ]
  },
  {
   "cell_type": "code",
   "execution_count": 146,
   "metadata": {},
   "outputs": [
    {
     "name": "stdout",
     "output_type": "stream",
     "text": [
      "CPU times: user 24.9 s, sys: 160 ms, total: 25 s\n",
      "Wall time: 25 s\n"
     ]
    }
   ],
   "source": [
    "%%time\n",
    "feature_matrix_counts, feature_names = data_utils.window_data(\n",
    "    window_lengths = [30, 180, 365, 730, 10000],\n",
    "    feature_matrix = feature_matrix_3d_transpose,\n",
    "    all_feature_names = good_feature_names,\n",
    "    cohort = cohort,\n",
    "    featureSet = featureSet,\n",
    "    cohort_end_date_col = 'dummy_date'\n",
    ")"
   ]
  },
  {
   "cell_type": "code",
   "execution_count": 178,
   "metadata": {},
   "outputs": [
    {
     "data": {
      "text/plain": [
       "<6784x90025 sparse matrix of type '<class 'numpy.float64'>'\n",
       "\twith 1426367 stored elements in Compressed Sparse Column format>"
      ]
     },
     "execution_count": 178,
     "metadata": {},
     "output_type": "execute_result"
    }
   ],
   "source": [
    "feature_matrix_counts.T"
   ]
  },
  {
   "cell_type": "code",
   "execution_count": 184,
   "metadata": {},
   "outputs": [
    {
     "data": {
      "text/plain": [
       "0    5154\n",
       "1    1630\n",
       "Name: y, dtype: int64"
      ]
     },
     "execution_count": 184,
     "metadata": {},
     "output_type": "execute_result"
    }
   ],
   "source": [
    "outcomes_filt.value_counts()"
   ]
  },
  {
   "cell_type": "markdown",
   "metadata": {},
   "source": [
    "#### Set up a standard sklearn modelling pipeline"
   ]
  },
  {
   "cell_type": "code",
   "execution_count": 148,
   "metadata": {},
   "outputs": [],
   "source": [
    "from sklearn.linear_model import LogisticRegression\n",
    "from sklearn.preprocessing import FunctionTransformer\n",
    "from sklearn.pipeline import Pipeline\n",
    "from sklearn.model_selection import train_test_split\n",
    "from sklearn.metrics import roc_auc_score, roc_curve, precision_recall_curve, average_precision_score\n",
    "\n",
    "lr = LogisticRegression(\n",
    "    class_weight='balanced', C=0.02,\n",
    "    penalty='l1', fit_intercept=True,\n",
    "    solver='liblinear', random_state=0,\n",
    "    verbose=0, max_iter = 200, tol=1e-1\n",
    ")\n",
    "\n",
    "def sparse_ufunc(f):\n",
    "    def wrapper(*a, **k):\n",
    "        X = a[0]\n",
    "        if not scipy.sparse.isspmatrix(X):\n",
    "            raise ValueError\n",
    "        X2 = X.copy()\n",
    "        X2.data = f(X2.data, *(a[1:]), **k)\n",
    "        return X2\n",
    "    return wrapper\n",
    "\n",
    "@sparse_ufunc\n",
    "def tr_func(X, kwarg=1):\n",
    "    return np.clip(X, 0, kwarg)\n",
    "\n",
    "func = FunctionTransformer(\n",
    "    func=tr_func,\n",
    "    accept_sparse=True,\n",
    "    validate=True,\n",
    "    kw_args={'kwarg': 1}\n",
    ")\n",
    "\n",
    "# The classifier will transform each data point using func, which here takes a count vector to a binary vector\n",
    "# Then, it will use logistic regression to classify the transformed data\n",
    "clf = Pipeline([\n",
    "    ('func',func),\n",
    "    ('lr', lr)\n",
    "])"
   ]
  },
  {
   "cell_type": "markdown",
   "metadata": {},
   "source": [
    "#### Instantiate, Train and Test Model"
   ]
  },
  {
   "cell_type": "code",
   "execution_count": 149,
   "metadata": {},
   "outputs": [
    {
     "name": "stdout",
     "output_type": "stream",
     "text": [
      "Model Test AUC: 0.86\n"
     ]
    }
   ],
   "source": [
    "indices = range(len(outcomes_filt))\n",
    "X_train, X_test, y_train, y_test, indices_train, indices_test = train_test_split(\n",
    "    feature_matrix_counts.T, outcomes_filt, indices,\n",
    "    test_size=0.2, random_state=1\n",
    ")\n",
    "clf.fit(X_train, y_train)\n",
    "pred = clf.predict_proba(X_test)[:, 1]\n",
    "print('Model Test AUC: {0:.2f}'.format(roc_auc_score(y_test, pred)))"
   ]
  },
  {
   "cell_type": "markdown",
   "metadata": {},
   "source": [
    "#### Evaluate Model : RoC and Precision-Recall Curves"
   ]
  },
  {
   "cell_type": "code",
   "execution_count": 150,
   "metadata": {},
   "outputs": [
    {
     "data": {
      "image/png": "[encoded data removed]",
      "text/plain": [
       "<Figure size 432x288 with 1 Axes>"
      ]
     },
     "metadata": {
      "needs_background": "light"
     },
     "output_type": "display_data"
    }
   ],
   "source": [
    "fpr, tpr, _ = roc_curve(y_test, pred)\n",
    "plt.figure()\n",
    "lw = 2\n",
    "plt.fill_between(fpr, tpr, color='b', alpha = 0.2,\n",
    "         lw=lw, label='ROC curve (area = %0.2f)' % roc_auc_score(y_test, pred))\n",
    "plt.plot([0, 1], [0, 1], color='navy', lw=lw, linestyle='--')\n",
    "plt.xlim([0.0, 1.0])\n",
    "plt.ylim([0.0, 1.05])\n",
    "plt.xlabel('False Positive Rate')\n",
    "plt.ylabel('True Positive Rate')\n",
    "plt.title('Receiver operating characteristic - EoL Model')\n",
    "plt.legend(loc=\"lower right\")\n",
    "plt.show()"
   ]
  },
  {
   "cell_type": "code",
   "execution_count": 155,
   "metadata": {},
   "outputs": [
    {
     "data": {
      "image/png": "[encoded data removed]",
      "text/plain": [
       "<Figure size 432x288 with 1 Axes>"
      ]
     },
     "metadata": {
      "needs_background": "light"
     },
     "output_type": "display_data"
    }
   ],
   "source": [
    "precision, recall, _ = precision_recall_curve(y_test, pred)\n",
    "\n",
    "from sklearn.metrics import average_precision_score\n",
    "average_precision = average_precision_score(y_test, pred)\n",
    "\n",
    "plt.figure()\n",
    "plt.step(recall, precision, color='b', alpha=0.2,\n",
    "         where='post')\n",
    "plt.fill_between(\n",
    "    recall, precision, alpha=0.2, color='b',\n",
    "    label='P-R curve (average precision = %0.2f)' % average_precision\n",
    ")\n",
    "\n",
    "plt.xlabel('Recall')\n",
    "plt.ylabel('Precision')\n",
    "plt.ylim([0.0, 1.0])\n",
    "plt.xlim([0.0, 1.0])\n",
    "plt.legend(loc=\"upper right\")\n",
    "plt.title('Precision-Recall curve - EoL Model')\n",
    "plt.show()"
   ]
  },
  {
   "cell_type": "markdown",
   "metadata": {},
   "source": [
    "#### Evaluate Model : Extract Feature Weights"
   ]
  },
  {
   "cell_type": "code",
   "execution_count": 152,
   "metadata": {},
   "outputs": [
    {
     "name": "stderr",
     "output_type": "stream",
     "text": [
      "/home/justinl/miniconda3/lib/python3.7/site-packages/ipykernel_launcher.py:5: FutureWarning: Passing a negative integer is deprecated in version 1.0 and will not be supported in future version. Instead, use None to not limit the column width.\n",
      "  \"\"\"\n"
     ]
    }
   ],
   "source": [
    "feature_weights = pd.DataFrame({\n",
    "    'feature_name': feature_names,\n",
    "    'feature_weight': list(clf.get_params()['lr'].coef_[0])\n",
    "}).sort_values(by='feature_weight')\n",
    "pd.set_option('display.max_colwidth', -1)"
   ]
  },
  {
   "cell_type": "code",
   "execution_count": 153,
   "metadata": {},
   "outputs": [
    {
     "data": {
      "text/html": [
       "<div>\n",
       "<style scoped>\n",
       "    .dataframe tbody tr th:only-of-type {\n",
       "        vertical-align: middle;\n",
       "    }\n",
       "\n",
       "    .dataframe tbody tr th {\n",
       "        vertical-align: top;\n",
       "    }\n",
       "\n",
       "    .dataframe thead th {\n",
       "        text-align: right;\n",
       "    }\n",
       "</style>\n",
       "<table border=\"1\" class=\"dataframe\">\n",
       "  <thead>\n",
       "    <tr style=\"text-align: right;\">\n",
       "      <th></th>\n",
       "      <th>feature_name</th>\n",
       "      <th>feature_weight</th>\n",
       "    </tr>\n",
       "  </thead>\n",
       "  <tbody>\n",
       "    <tr>\n",
       "      <th>47246</th>\n",
       "      <td>40481919 - condition - Coronary atherosclerosis - 365 days</td>\n",
       "      <td>0.103844</td>\n",
       "    </tr>\n",
       "    <tr>\n",
       "      <th>44454</th>\n",
       "      <td>319835 - condition - Congestive heart failure - 365 days</td>\n",
       "      <td>0.106721</td>\n",
       "    </tr>\n",
       "    <tr>\n",
       "      <th>24068</th>\n",
       "      <td>2514408 - procedure - Subsequent hospital care, per day, for the evaluation and management of a patient, which requires at least 2 of these 3 key components: An expanded problem focused interval history; An expanded problem focused examination; Medical decision making of moder - 180 days</td>\n",
       "      <td>0.108809</td>\n",
       "    </tr>\n",
       "    <tr>\n",
       "      <th>42064</th>\n",
       "      <td>2514399 - procedure - Office or other outpatient visit for the evaluation and management of an established patient, which requires at least 2 of these 3 key components: A comprehensive history; A comprehensive examination; Medical decision making of high complexity. Counseling - 365 days</td>\n",
       "      <td>0.110121</td>\n",
       "    </tr>\n",
       "    <tr>\n",
       "      <th>78081</th>\n",
       "      <td>2514406 - procedure - Initial hospital care, per day, for the evaluation and management of a patient, which requires these 3 key components: A comprehensive history; A comprehensive examination; and Medical decision making of high complexity. Counseling and/or coordination of  - 10000 days</td>\n",
       "      <td>0.118341</td>\n",
       "    </tr>\n",
       "    <tr>\n",
       "      <th>87228</th>\n",
       "      <td>436222 - condition - Altered mental status - 10000 days</td>\n",
       "      <td>0.124675</td>\n",
       "    </tr>\n",
       "    <tr>\n",
       "      <th>72713</th>\n",
       "      <td>140648 - condition - Onychomycosis due to dermatophyte - 10000 days</td>\n",
       "      <td>0.135518</td>\n",
       "    </tr>\n",
       "    <tr>\n",
       "      <th>26289</th>\n",
       "      <td>313217 - condition - Atrial fibrillation - 180 days</td>\n",
       "      <td>0.163465</td>\n",
       "    </tr>\n",
       "    <tr>\n",
       "      <th>78332</th>\n",
       "      <td>2617378 - procedure - Direct skilled nursing services of a registered nurse (rn) in the home health or hospice setting, each 15 minutes - 10000 days</td>\n",
       "      <td>0.170892</td>\n",
       "    </tr>\n",
       "    <tr>\n",
       "      <th>42094</th>\n",
       "      <td>2514437 - procedure - Emergency department visit for the evaluation and management of a patient, which requires these 3 key components within the constraints imposed by the urgency of the patient's clinical condition and/or mental status: A comprehensive history; A comprehensi - 365 days</td>\n",
       "      <td>0.180348</td>\n",
       "    </tr>\n",
       "    <tr>\n",
       "      <th>44485</th>\n",
       "      <td>321052 - condition - Peripheral vascular disease - 365 days</td>\n",
       "      <td>0.185213</td>\n",
       "    </tr>\n",
       "    <tr>\n",
       "      <th>45728</th>\n",
       "      <td>4008576 - condition - Diabetes mellitus without complication - 365 days</td>\n",
       "      <td>0.235114</td>\n",
       "    </tr>\n",
       "    <tr>\n",
       "      <th>49935</th>\n",
       "      <td>42872402 - condition - Coronary arteriosclerosis in native artery - 365 days</td>\n",
       "      <td>0.262489</td>\n",
       "    </tr>\n",
       "    <tr>\n",
       "      <th>49234</th>\n",
       "      <td>4221108 - condition - General body state finding - 365 days</td>\n",
       "      <td>0.269547</td>\n",
       "    </tr>\n",
       "    <tr>\n",
       "      <th>78199</th>\n",
       "      <td>255573 - condition - Chronic obstructive lung disease - 10000 days</td>\n",
       "      <td>0.309696</td>\n",
       "    </tr>\n",
       "    <tr>\n",
       "      <th>37593</th>\n",
       "      <td>19077546 - drug - Furosemide 20 MG Oral Tablet - 365 days</td>\n",
       "      <td>0.315134</td>\n",
       "    </tr>\n",
       "    <tr>\n",
       "      <th>27723</th>\n",
       "      <td>4008576 - condition - Diabetes mellitus without complication - 180 days</td>\n",
       "      <td>0.339561</td>\n",
       "    </tr>\n",
       "    <tr>\n",
       "      <th>26271</th>\n",
       "      <td>312648 - condition - Benign essential hypertension - 180 days</td>\n",
       "      <td>0.359461</td>\n",
       "    </tr>\n",
       "    <tr>\n",
       "      <th>78083</th>\n",
       "      <td>2514408 - procedure - Subsequent hospital care, per day, for the evaluation and management of a patient, which requires at least 2 of these 3 key components: An expanded problem focused interval history; An expanded problem focused examination; Medical decision making of moder - 10000 days</td>\n",
       "      <td>0.672320</td>\n",
       "    </tr>\n",
       "    <tr>\n",
       "      <th>44276</th>\n",
       "      <td>312648 - condition - Benign essential hypertension - 365 days</td>\n",
       "      <td>1.247290</td>\n",
       "    </tr>\n",
       "  </tbody>\n",
       "</table>\n",
       "</div>"
      ],
      "text/plain": [
       "                                                                                                                                                                                                                                                                                             feature_name  \\\n",
       "47246  40481919 - condition - Coronary atherosclerosis - 365 days                                                                                                                                                                                                                                           \n",
       "44454  319835 - condition - Congestive heart failure - 365 days                                                                                                                                                                                                                                             \n",
       "24068  2514408 - procedure - Subsequent hospital care, per day, for the evaluation and management of a patient, which requires at least 2 of these 3 key components: An expanded problem focused interval history; An expanded problem focused examination; Medical decision making of moder - 180 days     \n",
       "42064  2514399 - procedure - Office or other outpatient visit for the evaluation and management of an established patient, which requires at least 2 of these 3 key components: A comprehensive history; A comprehensive examination; Medical decision making of high complexity. Counseling - 365 days     \n",
       "78081  2514406 - procedure - Initial hospital care, per day, for the evaluation and management of a patient, which requires these 3 key components: A comprehensive history; A comprehensive examination; and Medical decision making of high complexity. Counseling and/or coordination of  - 10000 days   \n",
       "87228  436222 - condition - Altered mental status - 10000 days                                                                                                                                                                                                                                              \n",
       "72713  140648 - condition - Onychomycosis due to dermatophyte - 10000 days                                                                                                                                                                                                                                  \n",
       "26289  313217 - condition - Atrial fibrillation - 180 days                                                                                                                                                                                                                                                  \n",
       "78332  2617378 - procedure - Direct skilled nursing services of a registered nurse (rn) in the home health or hospice setting, each 15 minutes - 10000 days                                                                                                                                                 \n",
       "42094  2514437 - procedure - Emergency department visit for the evaluation and management of a patient, which requires these 3 key components within the constraints imposed by the urgency of the patient's clinical condition and/or mental status: A comprehensive history; A comprehensi - 365 days     \n",
       "44485  321052 - condition - Peripheral vascular disease - 365 days                                                                                                                                                                                                                                          \n",
       "45728  4008576 - condition - Diabetes mellitus without complication - 365 days                                                                                                                                                                                                                              \n",
       "49935  42872402 - condition - Coronary arteriosclerosis in native artery - 365 days                                                                                                                                                                                                                         \n",
       "49234  4221108 - condition - General body state finding - 365 days                                                                                                                                                                                                                                          \n",
       "78199  255573 - condition - Chronic obstructive lung disease - 10000 days                                                                                                                                                                                                                                   \n",
       "37593  19077546 - drug - Furosemide 20 MG Oral Tablet - 365 days                                                                                                                                                                                                                                            \n",
       "27723  4008576 - condition - Diabetes mellitus without complication - 180 days                                                                                                                                                                                                                              \n",
       "26271  312648 - condition - Benign essential hypertension - 180 days                                                                                                                                                                                                                                        \n",
       "78083  2514408 - procedure - Subsequent hospital care, per day, for the evaluation and management of a patient, which requires at least 2 of these 3 key components: An expanded problem focused interval history; An expanded problem focused examination; Medical decision making of moder - 10000 days   \n",
       "44276  312648 - condition - Benign essential hypertension - 365 days                                                                                                                                                                                                                                        \n",
       "\n",
       "       feature_weight  \n",
       "47246  0.103844        \n",
       "44454  0.106721        \n",
       "24068  0.108809        \n",
       "42064  0.110121        \n",
       "78081  0.118341        \n",
       "87228  0.124675        \n",
       "72713  0.135518        \n",
       "26289  0.163465        \n",
       "78332  0.170892        \n",
       "42094  0.180348        \n",
       "44485  0.185213        \n",
       "45728  0.235114        \n",
       "49935  0.262489        \n",
       "49234  0.269547        \n",
       "78199  0.309696        \n",
       "37593  0.315134        \n",
       "27723  0.339561        \n",
       "26271  0.359461        \n",
       "78083  0.672320        \n",
       "44276  1.247290        "
      ]
     },
     "execution_count": 153,
     "metadata": {},
     "output_type": "execute_result"
    }
   ],
   "source": [
    "feature_weights.tail(20)"
   ]
  },
  {
   "cell_type": "code",
   "execution_count": 154,
   "metadata": {},
   "outputs": [
    {
     "data": {
      "text/html": [
       "<div>\n",
       "<style scoped>\n",
       "    .dataframe tbody tr th:only-of-type {\n",
       "        vertical-align: middle;\n",
       "    }\n",
       "\n",
       "    .dataframe tbody tr th {\n",
       "        vertical-align: top;\n",
       "    }\n",
       "\n",
       "    .dataframe thead th {\n",
       "        text-align: right;\n",
       "    }\n",
       "</style>\n",
       "<table border=\"1\" class=\"dataframe\">\n",
       "  <thead>\n",
       "    <tr style=\"text-align: right;\">\n",
       "      <th></th>\n",
       "      <th>feature_name</th>\n",
       "      <th>feature_weight</th>\n",
       "    </tr>\n",
       "  </thead>\n",
       "  <tbody>\n",
       "    <tr>\n",
       "      <th>23599</th>\n",
       "      <td>2213418 - procedure - Immunization administration (includes percutaneous, intradermal, subcutaneous, or intramuscular injections); 1 vaccine (single or combination vaccine/toxoid) - 180 days</td>\n",
       "      <td>-0.364361</td>\n",
       "    </tr>\n",
       "    <tr>\n",
       "      <th>63488</th>\n",
       "      <td>38004450 - specialty - Anesthesiology - 730 days</td>\n",
       "      <td>-0.326535</td>\n",
       "    </tr>\n",
       "    <tr>\n",
       "      <th>85545</th>\n",
       "      <td>42627987 - procedure - Screening mammography, bilateral (2-view study of each breast), including computer-aided detection (CAD) when performed - 10000 days</td>\n",
       "      <td>-0.319851</td>\n",
       "    </tr>\n",
       "    <tr>\n",
       "      <th>45491</th>\n",
       "      <td>38004463 - specialty - Ophthalmology - 365 days</td>\n",
       "      <td>-0.232873</td>\n",
       "    </tr>\n",
       "    <tr>\n",
       "      <th>26762</th>\n",
       "      <td>36249510 - drug - 0.5 ML influenza A virus A/California/7/2009 (H1N1) antigen 0.12 MG/ML / influenza A virus A/Hong Kong/4801/2014 (H3N2) antigen 0.12 MG/ML / influenza B virus B/Brisbane/60/2008 antigen 0.12 MG/ML Prefilled Syringe [Fluzone 2016-2017] - 180 days</td>\n",
       "      <td>-0.195527</td>\n",
       "    </tr>\n",
       "    <tr>\n",
       "      <th>68511</th>\n",
       "      <td>432867 - condition - Hyperlipidemia - 730 days</td>\n",
       "      <td>-0.143773</td>\n",
       "    </tr>\n",
       "    <tr>\n",
       "      <th>77973</th>\n",
       "      <td>2314262 - procedure - Physical therapy evaluation - 10000 days</td>\n",
       "      <td>-0.104285</td>\n",
       "    </tr>\n",
       "    <tr>\n",
       "      <th>77601</th>\n",
       "      <td>2213283 - procedure - Level IV - Surgical pathology, gross and microscopic examination Abortion - spontaneous/missed Artery, biopsy Bone marrow, biopsy Bone exostosis Brain/meninges, other than for tumor resection Breast, biopsy, not requiring microscopic evaluation of surgica - 10000 days</td>\n",
       "      <td>-0.098068</td>\n",
       "    </tr>\n",
       "    <tr>\n",
       "      <th>80474</th>\n",
       "      <td>320128 - condition - Essential hypertension - 10000 days</td>\n",
       "      <td>-0.093757</td>\n",
       "    </tr>\n",
       "    <tr>\n",
       "      <th>62469</th>\n",
       "      <td>320128 - condition - Essential hypertension - 730 days</td>\n",
       "      <td>-0.071208</td>\n",
       "    </tr>\n",
       "    <tr>\n",
       "      <th>76231</th>\n",
       "      <td>2108115 - procedure - Collection of venous blood by venipuncture - 10000 days</td>\n",
       "      <td>-0.067944</td>\n",
       "    </tr>\n",
       "    <tr>\n",
       "      <th>65722</th>\n",
       "      <td>40756833 - procedure - Myocardial perfusion imaging, tomographic (SPECT) (including attenuation correction, qualitative or quantitative wall motion, ejection fraction by first pass or gated technique, additional quantification, when performed); multiple studies, at rest and/or  - 730 days</td>\n",
       "      <td>-0.067167</td>\n",
       "    </tr>\n",
       "    <tr>\n",
       "      <th>45524</th>\n",
       "      <td>38004692 - specialty - Clinical Laboratory - 365 days</td>\n",
       "      <td>-0.060865</td>\n",
       "    </tr>\n",
       "    <tr>\n",
       "      <th>49012</th>\n",
       "      <td>4193704 - condition - Type 2 diabetes mellitus without complication - 365 days</td>\n",
       "      <td>-0.051107</td>\n",
       "    </tr>\n",
       "    <tr>\n",
       "      <th>44464</th>\n",
       "      <td>320128 - condition - Essential hypertension - 365 days</td>\n",
       "      <td>-0.040683</td>\n",
       "    </tr>\n",
       "    <tr>\n",
       "      <th>63529</th>\n",
       "      <td>38004692 - specialty - Clinical Laboratory - 730 days</td>\n",
       "      <td>-0.036586</td>\n",
       "    </tr>\n",
       "    <tr>\n",
       "      <th>71407</th>\n",
       "      <td>764123 - condition - Atherosclerosis of coronary artery without angina pectoris - 730 days</td>\n",
       "      <td>-0.033287</td>\n",
       "    </tr>\n",
       "    <tr>\n",
       "      <th>22216</th>\n",
       "      <td>2108115 - procedure - Collection of venous blood by venipuncture - 180 days</td>\n",
       "      <td>-0.028942</td>\n",
       "    </tr>\n",
       "    <tr>\n",
       "      <th>48524</th>\n",
       "      <td>4144111 - condition - Gastroesophageal reflux disease without esophagitis - 365 days</td>\n",
       "      <td>-0.017727</td>\n",
       "    </tr>\n",
       "    <tr>\n",
       "      <th>59999</th>\n",
       "      <td>2314303 - procedure - Debridement (eg, high pressure waterjet with/without suction, sharp selective debridement with scissors, scalpel and forceps), open wound, (eg, fibrin, devitalized epidermis and/or dermis, exudate, debris, biofilm), including topical application(s), wound - 730 days</td>\n",
       "      <td>0.000000</td>\n",
       "    </tr>\n",
       "  </tbody>\n",
       "</table>\n",
       "</div>"
      ],
      "text/plain": [
       "                                                                                                                                                                                                                                                                                             feature_name  \\\n",
       "23599  2213418 - procedure - Immunization administration (includes percutaneous, intradermal, subcutaneous, or intramuscular injections); 1 vaccine (single or combination vaccine/toxoid) - 180 days                                                                                                       \n",
       "63488  38004450 - specialty - Anesthesiology - 730 days                                                                                                                                                                                                                                                     \n",
       "85545  42627987 - procedure - Screening mammography, bilateral (2-view study of each breast), including computer-aided detection (CAD) when performed - 10000 days                                                                                                                                          \n",
       "45491  38004463 - specialty - Ophthalmology - 365 days                                                                                                                                                                                                                                                      \n",
       "26762  36249510 - drug - 0.5 ML influenza A virus A/California/7/2009 (H1N1) antigen 0.12 MG/ML / influenza A virus A/Hong Kong/4801/2014 (H3N2) antigen 0.12 MG/ML / influenza B virus B/Brisbane/60/2008 antigen 0.12 MG/ML Prefilled Syringe [Fluzone 2016-2017] - 180 days                              \n",
       "68511  432867 - condition - Hyperlipidemia - 730 days                                                                                                                                                                                                                                                       \n",
       "77973  2314262 - procedure - Physical therapy evaluation - 10000 days                                                                                                                                                                                                                                       \n",
       "77601  2213283 - procedure - Level IV - Surgical pathology, gross and microscopic examination Abortion - spontaneous/missed Artery, biopsy Bone marrow, biopsy Bone exostosis Brain/meninges, other than for tumor resection Breast, biopsy, not requiring microscopic evaluation of surgica - 10000 days   \n",
       "80474  320128 - condition - Essential hypertension - 10000 days                                                                                                                                                                                                                                             \n",
       "62469  320128 - condition - Essential hypertension - 730 days                                                                                                                                                                                                                                               \n",
       "76231  2108115 - procedure - Collection of venous blood by venipuncture - 10000 days                                                                                                                                                                                                                        \n",
       "65722  40756833 - procedure - Myocardial perfusion imaging, tomographic (SPECT) (including attenuation correction, qualitative or quantitative wall motion, ejection fraction by first pass or gated technique, additional quantification, when performed); multiple studies, at rest and/or  - 730 days    \n",
       "45524  38004692 - specialty - Clinical Laboratory - 365 days                                                                                                                                                                                                                                                \n",
       "49012  4193704 - condition - Type 2 diabetes mellitus without complication - 365 days                                                                                                                                                                                                                       \n",
       "44464  320128 - condition - Essential hypertension - 365 days                                                                                                                                                                                                                                               \n",
       "63529  38004692 - specialty - Clinical Laboratory - 730 days                                                                                                                                                                                                                                                \n",
       "71407  764123 - condition - Atherosclerosis of coronary artery without angina pectoris - 730 days                                                                                                                                                                                                           \n",
       "22216  2108115 - procedure - Collection of venous blood by venipuncture - 180 days                                                                                                                                                                                                                          \n",
       "48524  4144111 - condition - Gastroesophageal reflux disease without esophagitis - 365 days                                                                                                                                                                                                                 \n",
       "59999  2314303 - procedure - Debridement (eg, high pressure waterjet with/without suction, sharp selective debridement with scissors, scalpel and forceps), open wound, (eg, fibrin, devitalized epidermis and/or dermis, exudate, debris, biofilm), including topical application(s), wound - 730 days     \n",
       "\n",
       "       feature_weight  \n",
       "23599 -0.364361        \n",
       "63488 -0.326535        \n",
       "85545 -0.319851        \n",
       "45491 -0.232873        \n",
       "26762 -0.195527        \n",
       "68511 -0.143773        \n",
       "77973 -0.104285        \n",
       "77601 -0.098068        \n",
       "80474 -0.093757        \n",
       "62469 -0.071208        \n",
       "76231 -0.067944        \n",
       "65722 -0.067167        \n",
       "45524 -0.060865        \n",
       "49012 -0.051107        \n",
       "44464 -0.040683        \n",
       "63529 -0.036586        \n",
       "71407 -0.033287        \n",
       "22216 -0.028942        \n",
       "48524 -0.017727        \n",
       "59999  0.000000        "
      ]
     },
     "execution_count": 154,
     "metadata": {},
     "output_type": "execute_result"
    }
   ],
   "source": [
    "feature_weights.head(20)"
   ]
  },
  {
   "cell_type": "code",
   "execution_count": 158,
   "metadata": {},
   "outputs": [
    {
     "name": "stdout",
     "output_type": "stream",
     "text": [
      "Number of nonzero procedure feature weights : 27\n",
      "Number of nonzero condition feature weights : 27\n",
      "Number of nonzero drug feature weights : 6\n",
      "Number of nonzero specialty feature weights : 4\n"
     ]
    }
   ],
   "source": [
    "for category in ['procedure', 'condition', 'drug', 'specialty']:\n",
    "    print('Number of nonzero {} feature weights : {}'.format(\n",
    "        category,\n",
    "        sum(feature_weights.loc[\n",
    "            [i for i,j in enumerate(feature_names) if '- ' + category + ' -' in j]\n",
    "        ]['feature_weight'] != 0)\n",
    "    ))"
   ]
  },
  {
   "cell_type": "code",
   "execution_count": null,
   "metadata": {},
   "outputs": [],
   "source": []
  }
 ],
 "metadata": {
  "kernelspec": {
   "display_name": "Python 3",
   "language": "python",
   "name": "python3"
  },
  "language_info": {
   "codemirror_mode": {
    "name": "ipython",
    "version": 3
   },
   "file_extension": ".py",
   "mimetype": "text/x-python",
   "name": "python",
   "nbconvert_exporter": "python",
   "pygments_lexer": "ipython3",
   "version": "3.7.4"
  }
 },
 "nbformat": 4,
 "nbformat_minor": 4
}
